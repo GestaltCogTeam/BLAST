{
 "cells": [
  {
   "cell_type": "code",
   "execution_count": null,
   "metadata": {},
   "outputs": [],
   "source": [
    "import os\n",
    "from tqdm import tqdm\n",
    "\n",
    "import numpy as np\n",
    "\n",
    "\n",
    "project_dir = os.path.dirname(os.path.abspath(\"\"))\n",
    "\n",
    "data_path = \"/home/S22/workspace/BLAST/sampling/output_p_linear/final_result.dat\"\n"
   ]
  },
  {
   "cell_type": "code",
   "execution_count": null,
   "metadata": {},
   "outputs": [],
   "source": [
    "shape = (20_000_000, 4096)\n",
    "data = np.memmap(data_path, dtype=np.float32, mode='r+', shape=shape)\n",
    "shape"
   ]
  },
  {
   "cell_type": "code",
   "execution_count": null,
   "metadata": {},
   "outputs": [],
   "source": [
    "# 将全是NaN的行设置成全0\n",
    "all_nan_count = 0\n",
    "for i in tqdm(range(shape[0])):\n",
    "    if np.isnan(data[i]).all():\n",
    "        data[i] = 0\n",
    "        all_nan_count += 1\n",
    "print(f'All nan count: {all_nan_count}')\n"
   ]
  },
  {
   "cell_type": "code",
   "execution_count": null,
   "metadata": {},
   "outputs": [],
   "source": [
    "# 去掉每一行左侧的NaN\n",
    "processed_count = 0\n",
    "for i in tqdm(range(shape[0])):\n",
    "    # 找到左侧第一个不是NaN的索引\n",
    "    first_non_nan_index = np.argmax(~np.isnan(data[i]))\n",
    "    if first_non_nan_index > 0:\n",
    "        # 去掉左侧的NaN\n",
    "        processed_count += 1\n",
    "        data[i] = np.concatenate([data[i][first_non_nan_index:], np.full((first_non_nan_index,), np.nan)])\n",
    "print(f'Processed count: {processed_count}')"
   ]
  },
  {
   "cell_type": "code",
   "execution_count": null,
   "metadata": {},
   "outputs": [],
   "source": [
    "# 将每一行的中间的NaN值替换为0，后面的NaN值保留\n",
    "processed_count = 0\n",
    "for i in tqdm(range(shape[0])):\n",
    "    # 找到中间第一个不是NaN的索引\n",
    "    first_non_nan_index = np.argmax(~np.isnan(data[i]))\n",
    "    # 找到中间最后一个不是NaN的索引\n",
    "    last_non_nan_index = shape[1] - np.argmax(np.flipud(~np.isnan(data[i])))\n",
    "    assert first_non_nan_index < last_non_nan_index\n",
    "    # 去掉中间的NaN\n",
    "    processed_count += 1\n",
    "    data[i][first_non_nan_index:last_non_nan_index] = np.nan_to_num(data[i][first_non_nan_index:last_non_nan_index], nan=0, posinf=0, neginf=0)\n",
    "print(f'Processed count: {processed_count}')"
   ]
  },
  {
   "cell_type": "code",
   "execution_count": null,
   "metadata": {},
   "outputs": [],
   "source": [
    "# test\n",
    "import numpy as np\n",
    "test_array = np.array([1, 2, 3, np.nan, 4, np.nan, np.nan])\n",
    "last_non_nan_index = test_array.shape[0] - np.argmax(np.flipud(~np.isnan(test_array)))\n",
    "last_non_nan_index"
   ]
  },
  {
   "cell_type": "code",
   "execution_count": null,
   "metadata": {},
   "outputs": [],
   "source": []
  }
 ],
 "metadata": {
  "kernelspec": {
   "display_name": "py311",
   "language": "python",
   "name": "python3"
  },
  "language_info": {
   "codemirror_mode": {
    "name": "ipython",
    "version": 3
   },
   "file_extension": ".py",
   "mimetype": "text/x-python",
   "name": "python",
   "nbconvert_exporter": "python",
   "pygments_lexer": "ipython3",
   "version": "3.11.11"
  }
 },
 "nbformat": 4,
 "nbformat_minor": 2
}
